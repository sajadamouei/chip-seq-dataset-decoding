{
  "cells": [
    {
      "cell_type": "markdown",
      "metadata": {
        "id": "view-in-github",
        "colab_type": "text"
      },
      "source": [
        "<a href=\"https://colab.research.google.com/github/sajadamouei/chip-seq-dataset-decoding/blob/main/main_decode.ipynb\" target=\"_parent\"><img src=\"https://colab.research.google.com/assets/colab-badge.svg\" alt=\"Open In Colab\"/></a>"
      ]
    },
    {
      "cell_type": "code",
      "execution_count": null,
      "metadata": {
        "id": "JI1A5_ToEKAp"
      },
      "outputs": [],
      "source": [
        "# Directory structures\n",
        "\n",
        "!pip install seedir # Python package that provides a visual representation of directory structures in the form of tree-like structures\n",
        "\n",
        "import seedir as sd\n",
        "sd.seedir('/path/to/parent/folder', style='emoji') # replace with the actual path to your parent folder"
      ]
    },
    {
      "cell_type": "code",
      "execution_count": null,
      "metadata": {
        "id": "ax7GjVL1o8BQ"
      },
      "outputs": [],
      "source": [
        "# Read and show .bedGraph files\n",
        "\n",
        "content = []\n",
        "with open(\"/path/to/a/bedGraph/file/coverage.bedGraph\")as f:\n",
        "    for line in f:\n",
        "        content.append(line.strip().split())\n",
        "\n",
        "content"
      ]
    },
    {
      "cell_type": "code",
      "execution_count": null,
      "metadata": {
        "id": "7y452Hd6jDe-"
      },
      "outputs": [],
      "source": [
        "# Read and show .bed files\n",
        "\n",
        "content = []\n",
        "with open(\"/path/to/a/bed/file/labels.bed\")as f:\n",
        "    for line in f:\n",
        "        content.append(line.strip().split())\n",
        "\n",
        "content"
      ]
    },
    {
      "cell_type": "code",
      "execution_count": null,
      "metadata": {
        "id": "-PXjvfeAqj2o"
      },
      "outputs": [],
      "source": [
        "# find subfolders and extract .gz files in the chip-seq dataset\n",
        "\n",
        "import os, gzip, shutil\n",
        "\n",
        "z=0\n",
        "o=0\n",
        "def gz_extract(directory):\n",
        "    extension = \".gz\"\n",
        "    os.chdir(directory)\n",
        "    for item in os.listdir(directory): # loop through items in dir\n",
        "      if item.endswith(extension): # check for \".gz\" extension\n",
        "          gz_name = os.path.abspath(item) # get full path of files\n",
        "          file_name = (os.path.basename(gz_name)).rsplit('.',1)[0] #get file name for file within\n",
        "          with gzip.open(gz_name,\"rb\") as f_in, open(file_name,\"wb\") as f_out:\n",
        "              shutil.copyfileobj(f_in, f_out)\n",
        "#          os.remove(gz_name) # delete zipped file\n",
        "\n",
        "\n",
        "\n",
        "\n",
        "for path, subdirs, files in os.walk('/content/drive/MyDrive/PhD/1-DEDProject/3-Chip-seq/H3K9me3_TDH_BP/samples'):\n",
        "    for name in files:\n",
        "      if (z%2) == 0:\n",
        "        print(os.path.join(path))\n",
        "        gz_extract(os.path.join(path))\n",
        "        o+=1\n",
        "      z+=1\n",
        "\n",
        "print('Number of files = ',z)\n",
        "print('Number of files extracted = ', o)"
      ]
    },
    {
      "cell_type": "code",
      "execution_count": null,
      "metadata": {
        "id": "EMv1PnUS6y3_"
      },
      "outputs": [],
      "source": [
        "import os\n",
        "\n",
        "lst_ad = []\n",
        "num = 0\n",
        "co = 0\n",
        "\n",
        "for path, subdirs, files in os.walk('C:/Users/47966/Desktop/delete/chip/H3K9me3_TDH_BP/samples'):\n",
        "    for name in files:\n",
        "        if (co%2) == 0:\n",
        "            lst_ad.append(os.path.join(path))\n",
        "            num+=1\n",
        "        co+=1\n",
        "\n",
        "print('Number of folders = ', num)"
      ]
    },
    {
      "cell_type": "code",
      "execution_count": null,
      "metadata": {
        "id": "bpbMmcKO678a"
      },
      "outputs": [],
      "source": [
        "# Decode coverage.bedgraph files\n",
        "\n",
        "import numpy as np\n",
        "import os\n",
        "\n",
        "   \n",
        "    \n",
        "f_data = []\n",
        "    \n",
        "for l in range(len(lst_ad)): # Read the coverage and label files\n",
        "    coverage = []\n",
        "    with open(os.path.join(lst_ad[l],\"coverage.bedGraph\"))as f:\n",
        "        for line in f:\n",
        "            coverage.append(line.strip().split())\n",
        "\n",
        "    labels = []\n",
        "    with open(os.path.join(lst_ad[l],\"labels.bed\"))as f:\n",
        "        for line in f:\n",
        "            labels.append(line.strip().split())\n",
        "        \n",
        "    n = int(coverage[len(coverage)-1][2]) # Last genomic position number\n",
        "    m = int(coverage[0][1]) # First genomic position number\n",
        "\n",
        "    data = np.zeros(shape=(2,n-m)) # One array for each coverage file\n",
        "\n",
        "    count = 0\n",
        "\n",
        "    for i in range(len(coverage)): # Decode the encoded coverage file in a 2D arry\n",
        "        for j in range(int(coverage[i][2])-int(coverage[i][1])):\n",
        "            data[0,count] = int(coverage[i][1]) + j + 1\n",
        "            data[1,count] = int(coverage[i][3])\n",
        "            count += 1\n",
        "        \n",
        "    for i in range(len(labels)): # Save the labeled parts of coverage file based label file from the 2D array\n",
        "            \n",
        "        t, s_point = np.where(data == int(labels[i][1]))\n",
        "        t, e_point = np.where(data == int(labels[i][2]))\n",
        "        s_point = int(s_point)-5000 # Pick the labelled sequence with addtional  5000 lenght before start point\n",
        "        e_point = int(e_point)+5000 # Pick the labelled sequence with addtional  5000 lenght after end point\n",
        "        \n",
        "        f_data.append(coverage[0][0])\n",
        "        f_data.append(list(data[1,s_point:e_point]))\n",
        "        f_data.append(labels[i][3])\n",
        "\n",
        "    print(l)"
      ]
    },
    {
      "cell_type": "code",
      "execution_count": null,
      "metadata": {
        "id": "ezvmO7YI7B2S"
      },
      "outputs": [],
      "source": [
        "import pickle # Save decoded and labeled dataset in a list .ob file\n",
        "with open('C:/Users/47966/Desktop/delete/chip/f_data2.ob', 'wb') as fp:\n",
        "    pickle.dump(f_data, fp)"
      ]
    }
  ],
  "metadata": {
    "colab": {
      "machine_shape": "hm",
      "provenance": [],
      "authorship_tag": "ABX9TyMGPCbRW4l3E+CSqzrXH7B3",
      "include_colab_link": true
    },
    "gpuClass": "standard",
    "kernelspec": {
      "display_name": "Python 3",
      "name": "python3"
    }
  },
  "nbformat": 4,
  "nbformat_minor": 0
}