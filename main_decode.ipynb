{
  "cells": [
    {
      "cell_type": "markdown",
      "metadata": {
        "id": "view-in-github",
        "colab_type": "text"
      },
      "source": [
        "<a href=\"https://colab.research.google.com/github/sajadamouei/chip-seq-dataset-decoding/blob/main/main_decode.ipynb\" target=\"_parent\"><img src=\"https://colab.research.google.com/assets/colab-badge.svg\" alt=\"Open In Colab\"/></a>"
      ]
    },
    {
      "cell_type": "markdown",
      "metadata": {
        "id": "UedRhO3-fdqo"
      },
      "source": [
        "# Folders tree diagrams and display .bed and .bedgraph files"
      ]
    },
    {
      "cell_type": "code",
      "execution_count": null,
      "metadata": {
        "id": "JI1A5_ToEKAp"
      },
      "outputs": [],
      "source": [
        "!pip install seedir"
      ]
    },
    {
      "cell_type": "code",
      "execution_count": null,
      "metadata": {
        "id": "qg7yIot2Eids"
      },
      "outputs": [],
      "source": [
        "import seedir as sd\n",
        "sd.seedir('/content', style='emoji')"
      ]
    },
    {
      "cell_type": "code",
      "execution_count": null,
      "metadata": {
        "id": "ax7GjVL1o8BQ"
      },
      "outputs": [],
      "source": [
        "#Compare with bcell\n",
        "content = []\n",
        "with open(\"/content/drive/MyDrive/PhD/1-DEDProject/3-Chip-seq/H3K9me3_TDH_BP/samples/bcell/ERS206573/problems/chr4_68270000-75427379/coverage.bedGraph\")as f:\n",
        "    for line in f:\n",
        "        content.append(line.strip().split())\n",
        "\n",
        "content"
      ]
    },
    {
      "cell_type": "code",
      "execution_count": null,
      "metadata": {
        "colab": {
          "base_uri": "https://localhost:8080/"
        },
        "id": "7y452Hd6jDe-",
        "outputId": "fab0ee02-f40b-47b9-9129-9d303699fb07"
      },
      "outputs": [
        {
          "output_type": "execute_result",
          "data": {
            "text/plain": [
              "[['chr6', '74026739', '74033802', 'peakEnd'],\n",
              " ['chr6', '74036062', '74064918', 'noPeaks'],\n",
              " ['chr6', '74080861', '74086466', 'peakEnd'],\n",
              " ['chr6', '74086776', '74137477', 'noPeaks']]"
            ]
          },
          "metadata": {},
          "execution_count": 3
        }
      ],
      "source": [
        "content = []\n",
        "with open(\"/content/labels.bed\")as f:\n",
        "    for line in f:\n",
        "        content.append(line.strip().split())\n",
        "\n",
        "content"
      ]
    },
    {
      "cell_type": "code",
      "execution_count": null,
      "metadata": {
        "id": "-PXjvfeAqj2o"
      },
      "outputs": [],
      "source": [
        "# find subfolders and extract .gz files in the chip-seq dataset\n",
        "\n",
        "import os, gzip, shutil\n",
        "\n",
        "z=0\n",
        "o=0\n",
        "def gz_extract(directory):\n",
        "    extension = \".gz\"\n",
        "    os.chdir(directory)\n",
        "    for item in os.listdir(directory): # loop through items in dir\n",
        "      if item.endswith(extension): # check for \".gz\" extension\n",
        "          gz_name = os.path.abspath(item) # get full path of files\n",
        "          file_name = (os.path.basename(gz_name)).rsplit('.',1)[0] #get file name for file within\n",
        "          with gzip.open(gz_name,\"rb\") as f_in, open(file_name,\"wb\") as f_out:\n",
        "              shutil.copyfileobj(f_in, f_out)\n",
        "#          os.remove(gz_name) # delete zipped file\n",
        "\n",
        "\n",
        "\n",
        "\n",
        "for path, subdirs, files in os.walk('/content/drive/MyDrive/PhD/1-DEDProject/3-Chip-seq/H3K9me3_TDH_BP/samples'):\n",
        "    for name in files:\n",
        "      if (z%2) == 0:\n",
        "        print(os.path.join(path))\n",
        "        gz_extract(os.path.join(path))\n",
        "        o+=1\n",
        "      z+=1\n",
        "\n",
        "print('Number of files = ',z)\n",
        "print('Number of files extracted = ', o)"
      ]
    },
    {
      "cell_type": "code",
      "execution_count": null,
      "metadata": {
        "id": "EMv1PnUS6y3_"
      },
      "outputs": [],
      "source": [
        "import os\n",
        "\n",
        "lst_ad = []\n",
        "num = 0\n",
        "co = 0\n",
        "\n",
        "for path, subdirs, files in os.walk('C:/Users/47966/Desktop/delete/chip/H3K9me3_TDH_BP/samples'):\n",
        "    for name in files:\n",
        "        if (co%2) == 0:\n",
        "            lst_ad.append(os.path.join(path))\n",
        "            num+=1\n",
        "        co+=1\n",
        "\n",
        "print('Number of folders = ', num)"
      ]
    },
    {
      "cell_type": "code",
      "execution_count": null,
      "metadata": {
        "id": "bpbMmcKO678a"
      },
      "outputs": [],
      "source": [
        "# Decode coverage.bedgraph files\n",
        "\n",
        "import numpy as np\n",
        "import os\n",
        "\n",
        "   \n",
        "    \n",
        "f_data = []\n",
        "    \n",
        "for l in range(len(lst_ad)): # Read the coverage and label files\n",
        "    coverage = []\n",
        "    with open(os.path.join(lst_ad[l],\"coverage.bedGraph\"))as f:\n",
        "        for line in f:\n",
        "            coverage.append(line.strip().split())\n",
        "\n",
        "    labels = []\n",
        "    with open(os.path.join(lst_ad[l],\"labels.bed\"))as f:\n",
        "        for line in f:\n",
        "            labels.append(line.strip().split())\n",
        "        \n",
        "    n = int(coverage[len(coverage)-1][2]) # Last genomic position number\n",
        "    m = int(coverage[0][1]) # First genomic position number\n",
        "\n",
        "    data = np.zeros(shape=(2,n-m)) # One array for each coverage file\n",
        "\n",
        "    count = 0\n",
        "\n",
        "    for i in range(len(coverage)): # Decode the encoded coverage file in a 2D arry\n",
        "        for j in range(int(coverage[i][2])-int(coverage[i][1])):\n",
        "            data[0,count] = int(coverage[i][1]) + j + 1\n",
        "            data[1,count] = int(coverage[i][3])\n",
        "            count += 1\n",
        "        \n",
        "    for i in range(len(labels)): # Save the labeled parts of coverage file based label file from the 2D array\n",
        "            \n",
        "        t, s_point = np.where(data == int(labels[i][1]))\n",
        "        t, e_point = np.where(data == int(labels[i][2]))\n",
        "        s_point = int(s_point)-5000 # Pick the labelled sequence with addtional  5000 lenght before start point\n",
        "        e_point = int(e_point)+5000 # Pick the labelled sequence with addtional  5000 lenght after end point\n",
        "        \n",
        "        f_data.append(coverage[0][0])\n",
        "        f_data.append(list(data[1,s_point:e_point]))\n",
        "        f_data.append(labels[i][3])\n",
        "\n",
        "    print(l)"
      ]
    },
    {
      "cell_type": "code",
      "execution_count": null,
      "metadata": {
        "id": "ezvmO7YI7B2S"
      },
      "outputs": [],
      "source": [
        "import pickle # Save decoded and labeled dataset in a list .ob file\n",
        "with open('C:/Users/47966/Desktop/delete/chip/f_data2.ob', 'wb') as fp:\n",
        "    pickle.dump(f_data, fp)"
      ]
    }
  ],
  "metadata": {
    "colab": {
      "machine_shape": "hm",
      "provenance": [],
      "collapsed_sections": [
        "uv3yY7YEAHRV",
        "UedRhO3-fdqo",
        "RfZvMyyqHISf",
        "tiWiiUBnaj0Q",
        "bBMMh4s98lMD",
        "a2MeeKzKOPe0",
        "FW3xAuXgToDK"
      ],
      "authorship_tag": "ABX9TyOgoyXgeIbWJHG6WOOYQtt4",
      "include_colab_link": true
    },
    "gpuClass": "standard",
    "kernelspec": {
      "display_name": "Python 3",
      "name": "python3"
    }
  },
  "nbformat": 4,
  "nbformat_minor": 0
}